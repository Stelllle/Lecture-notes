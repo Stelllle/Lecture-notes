{
  "cells": [
    {
      "cell_type": "markdown",
      "metadata": {
        "id": "WiPimylRtOsv"
      },
      "source": [
        "Matthew Sett\n",
        "<br>\n",
        "Date: Jan. 18, 2023\n",
        "<br>\n",
        "PHYS 2030 W23"
      ]
    },
    {
      "cell_type": "markdown",
      "metadata": {
        "id": "mx0SNh1BtOsy"
      },
      "source": [
        "# <center><font color=#46769B>Exercise 4: Error propagation with Monte Carlo sampling</font></center>\n",
        "\n",
        "## <font color=#46769B>Introduction:</font>\n",
        "\n",
        "__Error propagation__ or __propagation of uncertainties__ is a key concept in statistics that deals with how the errors of one or more quantities are related to the errors of other quantities that are derived from them. For example, suppose in lab we measure two distances $x$ and $y$ to be\n",
        "\n",
        "$$x = 5.10 \\pm 0.03 \\; {\\rm cm} \\, , \\qquad y = 3.39 \\pm 0.04 \\; {\\rm cm}$$\n",
        "\n",
        "As argued in Lesson 1, the central values quoted here correspond to the mean values $\\langle x \\rangle$ and $\\langle y \\rangle$ (say, averaged over multiple measurements). The errors quoted here are the standard errors of the mean, $E_x$ and $E_y$.\n",
        "\n",
        "Now, suppose we want to add them together to determine the total distance $z = x + y$. Here $z$ is not measured directly; it is derived from $x$ and $y$, and the error $E_z$ is derived from $E_x$ and $E_y$. How does this work? In other words, how do the errors for $x$ and $y$ add together to give the error on $z$?\n",
        "\n",
        "Before we proceed, we note that there are two types of errors:\n",
        "- __Statistical error__ (or __random error__) refers to random differences between measurements, e.g., due to unpredictable differences in the measurement setup or observer. We perform multiple measurements and average over them because it is assumed that such errors will tend to average to zero over a large number of measurements.\n",
        "- __Systematic error__ refers to an overall bias that is common to all measurements. For example, suppose your ruler is of poor quality (wrong size) and all measurements are skewed by the same amount. This means that systematic errors do not tend to average to zero over many measurements.\n",
        "\n",
        "How we approach the propagation of errors depends on which type of error we are considering. In this exercise, we focus on *statistical errors* only.\n",
        "\n",
        "Now, the usual method for (statistical) error propagation, which you likely have learned in your lab classes, is to use various analytical rules and formulas. Here, for $z = x + y$, we should calculate the central value of $z$ as the sum $\\langle x \\rangle + \\langle y \\rangle$, and the error is calculated by adding the errors __in quadrature__:\n",
        "\n",
        "$$E_z = \\sqrt{E_x^2 + E_y^2} \\, .$$\n",
        "\n",
        "So, for the numbers quoted in the simple example above, we have $z = 8.49 \\pm 0.05$.\n",
        "\n",
        "Now, what does this have to do with __Monte Carlo sampling__? It turns out that Monte Carlo sampling is *another* method we can use to propagate errors. It can be very useful because it applies even in situations where the the derived quantity may be a very complicated function of the measured quantities.\n",
        "\n",
        "In this exercise, our goals are:\n",
        "- Derive analytical rules for propagating statistical errors\n",
        "- Show how to propagate errors using Monte Carlo sampling\n",
        "- Verify that both approaches to error propagation give same result\n",
        "\n",
        "Required reading:\n",
        "- *Lesson 2: Normal distributions*\n",
        "\n",
        "## <font color=#46769B>Mathematical proof:</font>\n",
        "\n",
        "Let's state what we want to show. Suppose we have two measured quantities, $x$ and $y$, quoted in terms of their central values and errors:\n",
        "\n",
        "$$\\langle x \\rangle \\pm E_x \\, , \\qquad \\langle y \\rangle \\pm E_y \\, .$$\n",
        "\n",
        "We want to derive a quantity $z$ defined by\n",
        "\n",
        "$$z = a x + b y$$\n",
        "\n",
        "where to be more general we have introduced constants $a,b$, which are assumed to be known numbers. (The example above had $a=b=1$.)\n",
        "\n",
        "The central value and error on $z$ are\n",
        "\n",
        "$$\\langle z \\rangle = a \\langle x \\rangle + b \\langle y \\rangle  \\qquad (1)$$\n",
        "\n",
        "$$E_z = \\sqrt{ a^2 E_x^2 + b^2 E_y^2} \\qquad (2) $$\n",
        "\n",
        "and we would quote $\\langle z \\rangle \\pm E_z$ for $z$. \n",
        "\n",
        "Now for the proof. We are going to use the language of PDFs. Consider two variables $x$ and $y$, each with their own PDFs, $P_x(x)$ and $P_y(y)$. \n",
        "The true mean for $z$ is\n",
        "\n",
        "$$\\bar{z} = \\overline{a x + b y} = \\int_{-\\infty}^{\\infty} dx \\, P_x(x) \\int_{-\\infty}^{\\infty} dy \\, P_y(y) \\, (a x + b y) = a \\int_{-\\infty}^{\\infty} dx \\, x \\, P_x(x) \\int_{-\\infty}^{\\infty} dy \\, P_y(y) + b \\int_{-\\infty}^{\\infty} dx \\, P_x(x) \\int_{-\\infty}^{\\infty} dy \\, y \\, P_y(y) = a \\bar{x} + b \\bar{y} \\qquad (3)$$\n",
        "\n",
        "using some formulas for PDFs from Lesson 1:\n",
        "\n",
        "$$1 = \\int_{-\\infty}^{\\infty} dx \\, P_x(x) \\, ,  \\qquad \\bar{x} = \\int_{-\\infty}^{\\infty} dx \\, x \\, P_x(x) $$\n",
        "\n",
        "$$1 = \\int_{-\\infty}^{\\infty} dy \\, P_y(y) \\, ,  \\qquad \\bar{y} = \\int_{-\\infty}^{\\infty} dy \\, y \\, P_y(y) $$\n",
        "\n",
        "According to the Law of Large Numbers, we can approximate Eq. (3) by Eq. (1).\n",
        "\n",
        "Next, we calculate the true variance for $z$\n",
        "\n",
        "$$\\sigma_z^2 = \\overline{z^2} - \\bar{z}^2$$\n",
        "\n",
        "in terms of the true variances for $x$ and $y$\n",
        "\n",
        "$$\\sigma_x^2 = \\overline{x^2} - \\bar{x}^2 \\, , \\qquad \\sigma_y^2 = \\overline{y^2} - \\bar{y}^2 \\, .$$\n",
        "\n",
        "We have \n",
        "\n",
        "$$\\sigma_z^2 = \\overline{(a x + b y)^2} - (a \\bar{x} + b \\bar{y})^2 = a^2 \\overline{x^2} + 2 a b \\bar{x} \\bar{y} + b^2 \\overline{y^2} - a^2 \\bar{x}^2 - 2 a b \\bar{x} \\bar{y} - b^2 \\bar{y}^2 = a^2 \\sigma_x^2 + b^2 \\sigma_y^2 \\, . \\qquad (4)$$\n",
        "\n",
        "Here we are talking about that standard deviations $\\sigma_x$ and $\\sigma_y$, which are different than the *standard errors of the means* $E_x$ and $E_y$. But recall by the Central Limit Theorem, $E_x$ and $E_y$ are themselves the standard deviations of the normal distributions of the mean values of $\\langle x\\rangle$ and $\\langle y\\rangle$, respectively. \n",
        "So, Eq. (4) applies equally if we replace $\\sigma_x, \\sigma_y, \\sigma_z \\to E_x, E_y, E_z$. That proves Eq. (2).\n"
      ]
    },
    {
      "cell_type": "markdown",
      "metadata": {
        "id": "Rc9K2RZNtOs0"
      },
      "source": [
        "## <font color=#46769B>Exercise</font>\n",
        "\n",
        "Suppose we have three resistors of type $A$ and two resistors of type $B$, all attached in series. The formula for the total resistance $R$ is the sum of all resistances:\n",
        "\n",
        "$$R = 3 R_A + 2 R_B$$\n",
        "\n",
        "Assume that resistors of type A are all identical and with resistance\n",
        "\n",
        "$$R_A = 85 \\pm 5 \\; {\\rm ohms} \\, .$$\n",
        "\n",
        "Likewise resistors of type $B$ are all identical with resistance\n",
        "\n",
        "$$R_B = 120 \\pm 6 \\; {\\rm ohms} \\, .$$\n",
        "\n",
        "Calculate the central value and error on $R_{\\rm total}$ using Monte Carlo sampling, and compare your results to the analytic formulas derived above. Specfically, your tasks are as follows:\n",
        "\n",
        "- Generate $N=10^5$ samples for both $R_A$ and $R_B$ from normal distributions. For sampling $R_A$, you set $\\mu$ and $\\sigma$ to be the central value and error on $R_A$ quoted above (and similarly for $R_B$).\n",
        "- Obtain $N$ samples for $R$ from your samples for $R_A$ and $R_B$, according to the formula above.\n",
        "- Calculate and print the mean and standard deviation for $R$ from your samples, and also print the analytic central value and error for $R$ following Eq. (1) and (2).\n",
        "- Plot a histogram of your samples for $R$. On the same plot, plot a normal distribution for $R$ centered at the central value calculated from Eq. (1) and with standard deviation given by the error from Eq. (2). Be sure that your plot is labeled and has a suitable number of bins."
      ]
    },
    {
      "cell_type": "code",
      "execution_count": 37,
      "metadata": {
        "id": "hWYp4ya5tOs1",
        "outputId": "469407c4-e259-45c9-eebe-3ca43827a25f",
        "colab": {
          "base_uri": "https://localhost:8080/"
        }
      },
      "outputs": [
        {
          "output_type": "stream",
          "name": "stdout",
          "text": [
            "495.0095430757968\n",
            "368.2225643643411\n",
            "19.18912620116771\n"
          ]
        }
      ],
      "source": [
        "import numpy as np\n",
        "import matplotlib.pyplot as plt\n",
        "\n",
        "N = 10**5\n",
        "Ra = np.random.normal(85,5,N)\n",
        "Rb = np.random.normal(120,6,N)\n",
        "R = 3*Ra+2*Rb\n",
        "mean_R = np.mean(R)\n",
        "var_R = np.var(R)\n",
        "std_dev = np.std(R)\n",
        "print(mean_R)\n",
        "print(var_R)\n",
        "print(std_dev)"
      ]
    },
    {
      "cell_type": "code",
      "execution_count": 24,
      "metadata": {
        "id": "SDJenxdttOs2",
        "outputId": "1f9ee3de-4da1-429e-ff13-c5c2388ca7df",
        "colab": {
          "base_uri": "https://localhost:8080/",
          "height": 1000
        }
      },
      "outputs": [
        {
          "output_type": "execute_result",
          "data": {
            "text/plain": [
              "(array([  1.,   0.,   0.,   0.,   0.,   0.,   0.,   0.,   0.,   0.,   0.,\n",
              "          0.,   1.,   1.,   0.,   0.,   0.,   1.,   1.,   0.,   0.,   0.,\n",
              "          0.,   0.,   0.,   0.,   0.,   0.,   0.,   0.,   1.,   0.,   1.,\n",
              "          0.,   0.,   0.,   0.,   0.,   1.,   0.,   0.,   1.,   0.,   1.,\n",
              "          1.,   0.,   0.,   1.,   2.,   3.,   1.,   0.,   2.,   1.,   2.,\n",
              "          2.,   2.,   2.,   0.,   1.,   1.,   3.,   1.,   3.,   2.,   4.,\n",
              "          1.,   3.,   1.,   5.,   5.,   6.,   4.,   5.,   4.,   4.,   8.,\n",
              "          7.,   3.,   5.,   8.,   3.,   7.,  17.,   9.,   7.,   8.,   7.,\n",
              "         11.,   4.,   9.,  10.,  15.,   6.,  12.,   7.,  27.,  10.,  20.,\n",
              "         12.,  13.,  15.,  15.,  16.,  18.,  26.,  16.,  17.,  29.,  31.,\n",
              "         15.,  25.,  18.,  22.,  24.,  28.,  27.,  30.,  39.,  37.,  43.,\n",
              "         34.,  38.,  43.,  46.,  43.,  52.,  50.,  63.,  62.,  51.,  56.,\n",
              "         62.,  64.,  64.,  73.,  85.,  69., 104.,  71.,  84.,  95.,  78.,\n",
              "         93., 105.,  94., 103., 117., 103., 106., 125., 134., 149., 112.,\n",
              "        130., 124., 140., 138., 137., 155., 149., 164., 191., 186., 167.,\n",
              "        178., 196., 184., 193., 212., 201., 233., 239., 230., 238., 248.,\n",
              "        232., 260., 268., 254., 236., 303., 287., 302., 299., 282., 280.,\n",
              "        308., 284., 311., 303., 368., 313., 362., 361., 343., 387., 373.,\n",
              "        407., 410., 397., 401., 401., 424., 439., 430., 448., 463., 436.,\n",
              "        459., 476., 460., 490., 456., 490., 511., 494., 502., 478., 557.,\n",
              "        548., 555., 521., 522., 597., 576., 564., 585., 578., 575., 634.,\n",
              "        596., 595., 606., 646., 605., 633., 622., 650., 673., 665., 653.,\n",
              "        648., 638., 633., 677., 643., 711., 653., 650., 684., 646., 664.,\n",
              "        677., 661., 687., 695., 659., 720., 713., 645., 654., 634., 724.,\n",
              "        699., 646., 652., 705., 667., 654., 714., 646., 685., 655., 659.,\n",
              "        711., 693., 623., 659., 671., 680., 650., 656., 638., 641., 622.,\n",
              "        614., 584., 577., 617., 585., 576., 608., 593., 575., 606., 550.,\n",
              "        550., 555., 582., 555., 540., 554., 508., 529., 557., 448., 491.,\n",
              "        501., 481., 472., 436., 445., 451., 443., 424., 424., 411., 408.,\n",
              "        413., 398., 375., 410., 394., 402., 359., 361., 319., 339., 350.,\n",
              "        326., 357., 325., 304., 327., 273., 277., 280., 250., 283., 249.,\n",
              "        269., 272., 262., 270., 251., 244., 208., 233., 216., 212., 203.,\n",
              "        218., 205., 210., 181., 171., 168., 188., 151., 158., 159., 152.,\n",
              "        144., 129., 130., 147., 131., 126., 140., 114., 109.,  97., 119.,\n",
              "        110., 102.,  95.,  98.,  81.,  89.,  89.,  78.,  66.,  74.,  67.,\n",
              "         73.,  58.,  52.,  66.,  57.,  54.,  59.,  56.,  43.,  51.,  36.,\n",
              "         47.,  49.,  39.,  38.,  42.,  41.,  47.,  42.,  34.,  21.,  22.,\n",
              "         26.,  30.,  33.,  25.,  24.,  20.,  25.,  25.,  22.,  17.,  11.,\n",
              "         22.,  18.,  11.,  17.,  14.,  19.,  19.,  12.,  11.,   9.,  11.,\n",
              "         16.,   7.,  10.,   8.,   8.,  11.,   9.,  13.,   8.,   8.,   5.,\n",
              "          4.,   9.,   5.,   8.,   7.,   6.,   2.,   5.,   2.,   3.,   3.,\n",
              "          4.,   5.,   4.,   4.,   2.,   3.,   2.,   4.,   6.,   2.,   1.,\n",
              "          3.,   0.,   2.,   2.,   6.,   2.,   3.,   1.,   4.,   1.,   0.,\n",
              "          1.,   0.,   1.,   1.,   0.,   1.,   0.,   1.,   1.,   0.,   1.,\n",
              "          0.,   0.,   0.,   1.,   2.,   0.,   1.,   0.,   0.,   0.,   0.,\n",
              "          0.,   0.,   0.,   0.,   1.]),\n",
              " array([409.37203828, 409.70020961, 410.02838094, 410.35655227,\n",
              "        410.6847236 , 411.01289493, 411.34106626, 411.66923759,\n",
              "        411.99740892, 412.32558025, 412.65375158, 412.98192291,\n",
              "        413.31009424, 413.63826557, 413.9664369 , 414.29460823,\n",
              "        414.62277956, 414.95095089, 415.27912222, 415.60729355,\n",
              "        415.93546488, 416.26363621, 416.59180754, 416.91997887,\n",
              "        417.2481502 , 417.57632153, 417.90449286, 418.23266419,\n",
              "        418.56083552, 418.88900685, 419.21717818, 419.54534951,\n",
              "        419.87352084, 420.20169217, 420.5298635 , 420.85803483,\n",
              "        421.18620616, 421.51437748, 421.84254881, 422.17072014,\n",
              "        422.49889147, 422.8270628 , 423.15523413, 423.48340546,\n",
              "        423.81157679, 424.13974812, 424.46791945, 424.79609078,\n",
              "        425.12426211, 425.45243344, 425.78060477, 426.1087761 ,\n",
              "        426.43694743, 426.76511876, 427.09329009, 427.42146142,\n",
              "        427.74963275, 428.07780408, 428.40597541, 428.73414674,\n",
              "        429.06231807, 429.3904894 , 429.71866073, 430.04683206,\n",
              "        430.37500339, 430.70317472, 431.03134605, 431.35951738,\n",
              "        431.68768871, 432.01586004, 432.34403137, 432.6722027 ,\n",
              "        433.00037403, 433.32854536, 433.65671669, 433.98488802,\n",
              "        434.31305935, 434.64123068, 434.96940201, 435.29757334,\n",
              "        435.62574467, 435.953916  , 436.28208733, 436.61025866,\n",
              "        436.93842999, 437.26660131, 437.59477264, 437.92294397,\n",
              "        438.2511153 , 438.57928663, 438.90745796, 439.23562929,\n",
              "        439.56380062, 439.89197195, 440.22014328, 440.54831461,\n",
              "        440.87648594, 441.20465727, 441.5328286 , 441.86099993,\n",
              "        442.18917126, 442.51734259, 442.84551392, 443.17368525,\n",
              "        443.50185658, 443.83002791, 444.15819924, 444.48637057,\n",
              "        444.8145419 , 445.14271323, 445.47088456, 445.79905589,\n",
              "        446.12722722, 446.45539855, 446.78356988, 447.11174121,\n",
              "        447.43991254, 447.76808387, 448.0962552 , 448.42442653,\n",
              "        448.75259786, 449.08076919, 449.40894052, 449.73711185,\n",
              "        450.06528318, 450.39345451, 450.72162584, 451.04979717,\n",
              "        451.3779685 , 451.70613983, 452.03431116, 452.36248249,\n",
              "        452.69065382, 453.01882515, 453.34699647, 453.6751678 ,\n",
              "        454.00333913, 454.33151046, 454.65968179, 454.98785312,\n",
              "        455.31602445, 455.64419578, 455.97236711, 456.30053844,\n",
              "        456.62870977, 456.9568811 , 457.28505243, 457.61322376,\n",
              "        457.94139509, 458.26956642, 458.59773775, 458.92590908,\n",
              "        459.25408041, 459.58225174, 459.91042307, 460.2385944 ,\n",
              "        460.56676573, 460.89493706, 461.22310839, 461.55127972,\n",
              "        461.87945105, 462.20762238, 462.53579371, 462.86396504,\n",
              "        463.19213637, 463.5203077 , 463.84847903, 464.17665036,\n",
              "        464.50482169, 464.83299302, 465.16116435, 465.48933568,\n",
              "        465.81750701, 466.14567834, 466.47384967, 466.802021  ,\n",
              "        467.13019233, 467.45836366, 467.78653499, 468.11470632,\n",
              "        468.44287765, 468.77104898, 469.0992203 , 469.42739163,\n",
              "        469.75556296, 470.08373429, 470.41190562, 470.74007695,\n",
              "        471.06824828, 471.39641961, 471.72459094, 472.05276227,\n",
              "        472.3809336 , 472.70910493, 473.03727626, 473.36544759,\n",
              "        473.69361892, 474.02179025, 474.34996158, 474.67813291,\n",
              "        475.00630424, 475.33447557, 475.6626469 , 475.99081823,\n",
              "        476.31898956, 476.64716089, 476.97533222, 477.30350355,\n",
              "        477.63167488, 477.95984621, 478.28801754, 478.61618887,\n",
              "        478.9443602 , 479.27253153, 479.60070286, 479.92887419,\n",
              "        480.25704552, 480.58521685, 480.91338818, 481.24155951,\n",
              "        481.56973084, 481.89790217, 482.2260735 , 482.55424483,\n",
              "        482.88241616, 483.21058749, 483.53875882, 483.86693015,\n",
              "        484.19510148, 484.52327281, 484.85144414, 485.17961546,\n",
              "        485.50778679, 485.83595812, 486.16412945, 486.49230078,\n",
              "        486.82047211, 487.14864344, 487.47681477, 487.8049861 ,\n",
              "        488.13315743, 488.46132876, 488.78950009, 489.11767142,\n",
              "        489.44584275, 489.77401408, 490.10218541, 490.43035674,\n",
              "        490.75852807, 491.0866994 , 491.41487073, 491.74304206,\n",
              "        492.07121339, 492.39938472, 492.72755605, 493.05572738,\n",
              "        493.38389871, 493.71207004, 494.04024137, 494.3684127 ,\n",
              "        494.69658403, 495.02475536, 495.35292669, 495.68109802,\n",
              "        496.00926935, 496.33744068, 496.66561201, 496.99378334,\n",
              "        497.32195467, 497.650126  , 497.97829733, 498.30646866,\n",
              "        498.63463999, 498.96281132, 499.29098265, 499.61915398,\n",
              "        499.94732531, 500.27549664, 500.60366797, 500.93183929,\n",
              "        501.26001062, 501.58818195, 501.91635328, 502.24452461,\n",
              "        502.57269594, 502.90086727, 503.2290386 , 503.55720993,\n",
              "        503.88538126, 504.21355259, 504.54172392, 504.86989525,\n",
              "        505.19806658, 505.52623791, 505.85440924, 506.18258057,\n",
              "        506.5107519 , 506.83892323, 507.16709456, 507.49526589,\n",
              "        507.82343722, 508.15160855, 508.47977988, 508.80795121,\n",
              "        509.13612254, 509.46429387, 509.7924652 , 510.12063653,\n",
              "        510.44880786, 510.77697919, 511.10515052, 511.43332185,\n",
              "        511.76149318, 512.08966451, 512.41783584, 512.74600717,\n",
              "        513.0741785 , 513.40234983, 513.73052116, 514.05869249,\n",
              "        514.38686382, 514.71503515, 515.04320648, 515.37137781,\n",
              "        515.69954914, 516.02772047, 516.3558918 , 516.68406312,\n",
              "        517.01223445, 517.34040578, 517.66857711, 517.99674844,\n",
              "        518.32491977, 518.6530911 , 518.98126243, 519.30943376,\n",
              "        519.63760509, 519.96577642, 520.29394775, 520.62211908,\n",
              "        520.95029041, 521.27846174, 521.60663307, 521.9348044 ,\n",
              "        522.26297573, 522.59114706, 522.91931839, 523.24748972,\n",
              "        523.57566105, 523.90383238, 524.23200371, 524.56017504,\n",
              "        524.88834637, 525.2165177 , 525.54468903, 525.87286036,\n",
              "        526.20103169, 526.52920302, 526.85737435, 527.18554568,\n",
              "        527.51371701, 527.84188834, 528.17005967, 528.498231  ,\n",
              "        528.82640233, 529.15457366, 529.48274499, 529.81091632,\n",
              "        530.13908765, 530.46725898, 530.79543031, 531.12360164,\n",
              "        531.45177297, 531.7799443 , 532.10811563, 532.43628696,\n",
              "        532.76445828, 533.09262961, 533.42080094, 533.74897227,\n",
              "        534.0771436 , 534.40531493, 534.73348626, 535.06165759,\n",
              "        535.38982892, 535.71800025, 536.04617158, 536.37434291,\n",
              "        536.70251424, 537.03068557, 537.3588569 , 537.68702823,\n",
              "        538.01519956, 538.34337089, 538.67154222, 538.99971355,\n",
              "        539.32788488, 539.65605621, 539.98422754, 540.31239887,\n",
              "        540.6405702 , 540.96874153, 541.29691286, 541.62508419,\n",
              "        541.95325552, 542.28142685, 542.60959818, 542.93776951,\n",
              "        543.26594084, 543.59411217, 543.9222835 , 544.25045483,\n",
              "        544.57862616, 544.90679749, 545.23496882, 545.56314015,\n",
              "        545.89131148, 546.21948281, 546.54765414, 546.87582547,\n",
              "        547.2039968 , 547.53216813, 547.86033946, 548.18851079,\n",
              "        548.51668211, 548.84485344, 549.17302477, 549.5011961 ,\n",
              "        549.82936743, 550.15753876, 550.48571009, 550.81388142,\n",
              "        551.14205275, 551.47022408, 551.79839541, 552.12656674,\n",
              "        552.45473807, 552.7829094 , 553.11108073, 553.43925206,\n",
              "        553.76742339, 554.09559472, 554.42376605, 554.75193738,\n",
              "        555.08010871, 555.40828004, 555.73645137, 556.0646227 ,\n",
              "        556.39279403, 556.72096536, 557.04913669, 557.37730802,\n",
              "        557.70547935, 558.03365068, 558.36182201, 558.68999334,\n",
              "        559.01816467, 559.346336  , 559.67450733, 560.00267866,\n",
              "        560.33084999, 560.65902132, 560.98719265, 561.31536398,\n",
              "        561.64353531, 561.97170664, 562.29987797, 562.6280493 ,\n",
              "        562.95622063, 563.28439196, 563.61256329, 563.94073462,\n",
              "        564.26890595, 564.59707727, 564.9252486 , 565.25341993,\n",
              "        565.58159126, 565.90976259, 566.23793392, 566.56610525,\n",
              "        566.89427658, 567.22244791, 567.55061924, 567.87879057,\n",
              "        568.2069619 , 568.53513323, 568.86330456, 569.19147589,\n",
              "        569.51964722, 569.84781855, 570.17598988, 570.50416121,\n",
              "        570.83233254, 571.16050387, 571.4886752 , 571.81684653,\n",
              "        572.14501786, 572.47318919, 572.80136052, 573.12953185,\n",
              "        573.45770318]),\n",
              " <a list of 500 Patch objects>)"
            ]
          },
          "metadata": {},
          "execution_count": 24
        },
        {
          "output_type": "display_data",
          "data": {
            "text/plain": [
              "<Figure size 432x288 with 1 Axes>"
            ],
            "image/png": "[encoded data removed]"
          },
          "metadata": {
            "needs_background": "light"
          }
        }
      ],
      "source": [
        "plt.hist(R, bins = 500)"
      ]
    },
    {
      "cell_type": "code",
      "source": [
        "D = np.sqrt((3*5)**2+(2*6)**2)"
      ],
      "metadata": {
        "id": "aqnvsAJgw6LZ"
      },
      "execution_count": 34,
      "outputs": []
    },
    {
      "cell_type": "code",
      "source": [
        "print(D)"
      ],
      "metadata": {
        "id": "l5hnycB-2seJ",
        "outputId": "dbd138a2-dd7e-4a95-fe58-1b0f3d94ee7a",
        "colab": {
          "base_uri": "https://localhost:8080/"
        }
      },
      "execution_count": 38,
      "outputs": [
        {
          "output_type": "stream",
          "name": "stdout",
          "text": [
            "19.209372712298546\n"
          ]
        }
      ]
    },
    {
      "cell_type": "code",
      "source": [],
      "metadata": {
        "id": "7y77CGfd2tnj"
      },
      "execution_count": null,
      "outputs": []
    }
  ],
  "metadata": {
    "kernelspec": {
      "display_name": "Python 3",
      "language": "python",
      "name": "python3"
    },
    "language_info": {
      "codemirror_mode": {
        "name": "ipython",
        "version": 3
      },
      "file_extension": ".py",
      "mimetype": "text/x-python",
      "name": "python",
      "nbconvert_exporter": "python",
      "pygments_lexer": "ipython3",
      "version": "3.7.6"
    },
    "colab": {
      "provenance": []
    }
  },
  "nbformat": 4,
  "nbformat_minor": 0
}