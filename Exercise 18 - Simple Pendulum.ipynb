{
  "cells": [
    {
      "cell_type": "code",
      "source": [],
      "metadata": {
        "id": "eE6fG6Hbpwh5"
      },
      "execution_count": null,
      "outputs": []
    },
    {
      "cell_type": "markdown",
      "metadata": {
        "id": "Ke-3yxG_nh7L"
      },
      "source": [
        "Matthew Sett\n",
        "<br>\n",
        "Date: Feb. 27, 2022\n",
        "<br>\n",
        "PHYS 2030 W23"
      ]
    },
    {
      "cell_type": "markdown",
      "metadata": {
        "id": "S5ChdB3fnh7M"
      },
      "source": [
        "# <center><font color=#46769B>Exercise 18: Simple pendulum</font></center>\n",
        "\n",
        "## <font color=#46769B>Introduction</font>\n",
        "\n",
        "An ideal simple pendulum consists of a rigid rod of length $\\ell$, with a mass at one end and a frictionless pivot at the other end, such that the pendulum is free to oscillate in the vertical plane under the influence of gravity, with gravitational acceleration $g$. The equation of motion is\n",
        "\n",
        "$$\\theta''(t) + \\omega^2 \\, \\sin\\theta(t) = 0$$\n",
        "\n",
        "where $t$ is time, $\\theta(t)$ is the angle of displacement from the vertical axis (where $\\theta = 0$ corresponds to the pendulum oriented straight downward), and $\\omega = \\sqrt{g/\\ell}$. \n",
        "\n",
        "For small-angle oscillations, it suffices to take the small-angle approximation, $\\theta \\ll 1$, which yields the equation of motion\n",
        "\n",
        "$$\\theta''(t) + \\omega^2 \\, \\theta(t) = 0 \\, .$$\n",
        "\n",
        "In this case, the pendulum undergoes sinusoidal motion with period $T = 2\\pi/\\omega$.\n",
        "\n",
        "If the amplitude of oscillation is not small, the pendulum is an *anharmonic oscillator* and in general can only be solved numerically. (Well, actually, an exact solution can be given in terms of special functions or a power series. Here is a [reference](https://arxiv.org/pdf/2108.09395.pdf), or you can [watch a video](https://www.youtube.com/watch?v=efvT2iUSjaA)).\n",
        "In this case, the pendulum's motion is still periodic, but it is no longer sinusoidal. The period $T$ is no longer simply $2\\pi/T$, but depends on the amplitude of the pendulum's displacement.\n",
        "\n",
        "The goals of this exercise are:\n",
        "- Solve the equation of motion for a pendulum\n",
        "- Gain experience with the Euler method\n",
        "\n",
        "Required reading:\n",
        "- *Lesson 7: Euler method*\n"
      ]
    },
    {
      "cell_type": "markdown",
      "metadata": {
        "id": "5XgrlyW6nh7M"
      },
      "source": [
        "## <font color=#46769B>Part (a)</font>\n",
        "\n",
        "Consider a pendulum with equation of motion\n",
        "\n",
        "$$\\theta''(t) + \\omega^2 \\sin\\theta(t) = 0 \\, ,$$\n",
        "\n",
        "that starts from rest at $t=0$ with initial displacement $\\theta_0$. That is, the initial condition is \n",
        "\n",
        "$$\\theta(0) = \\theta_0 , \\qquad \\theta'(0) = 0 \\, .$$ \n",
        "\n",
        "Here we will consider $\\theta_0 = 0.01$. Also, for simplicity, set $\\omega = 2\\pi$.\n",
        "\n",
        "Perform the following tasks:\n",
        "- Write a code to perform the (forward) Euler method, with a uniform step-size $h$, for solving for $\\theta(t)$ as a function of $t$, up to a final time $t_f = 5$. Choose the number of steps such that your results converge with relative tolerance `rtol=1e-2` and absolute tolerance `atol=0` when you double the number of steps $N$, following the method described in Lecture. What number of steps was needed?\n",
        "- Make a plot showing your converged numerical solutions for $\\theta(t)$ and $\\theta^\\prime(t)$ vs time $t$ on the same plot (include a legend and label for your $x$-axis). \n",
        "- On the same plot, show the analytic solutions for $\\theta(t)$ and $\\theta^\\prime(t)$ in the small-angle limit with the same initial conditions (with a dashed line).\n"
      ]
    },
    {
      "cell_type": "code",
      "execution_count": 2,
      "metadata": {
        "id": "XSjncsZZnh7M"
      },
      "outputs": [],
      "source": [
        "import numpy as np\n",
        "import matplotlib.pyplot as plt\n",
        "\n",
        "omega = 2*np.pi\n",
        "theta0 = 0.01\n",
        "ti = 0\n",
        "tf = 5\n",
        "\n",
        "\n",
        "# Your code here\n",
        "\n",
        "def Pend(t,y):\n",
        "  t+omega**2*np.sin(t)"
      ]
    },
    {
      "cell_type": "markdown",
      "metadata": {
        "id": "jdlHQQBtnh7N"
      },
      "source": [
        "## <font color=#46769B>Part (b)</font>\n",
        "\n",
        "In Part (a), since $\\theta_0$ was small, you should have found good agreement with the analyic solution describing sinusoidal oscillation. Now, repeat the all steps of Part (a) with a different initial condition, $\\theta_0 = 1$, and all other inputs the same.\n"
      ]
    },
    {
      "cell_type": "code",
      "execution_count": null,
      "metadata": {
        "id": "J7DYED05nh7N"
      },
      "outputs": [],
      "source": [
        "# Your code here"
      ]
    },
    {
      "cell_type": "markdown",
      "metadata": {
        "id": "p6EHWGrKnh7N"
      },
      "source": [
        "## <font color=#46769B>Part (c)</font>\n",
        "\n",
        "Repeat the all steps of Part (a) with a different initial condition, $\\theta_0 = 3$, and all other inputs the same.\n",
        "\n"
      ]
    },
    {
      "cell_type": "code",
      "execution_count": null,
      "metadata": {
        "id": "NwVC57oKnh7N"
      },
      "outputs": [],
      "source": [
        "# Your code here"
      ]
    },
    {
      "cell_type": "markdown",
      "metadata": {
        "id": "KEELmul8nh7N"
      },
      "source": [
        "## <font color=#46769B>Part (d)</font>\n",
        "\n",
        "In Parts (b) and (c), you should find that the small-angle solution gets worse as the initial displacement $\\theta_0$ gets larger, and that the period of oscillation $T$ gets larger with $\\theta_0$.\n",
        "\n",
        "The goal is to determine numerically $T(\\theta_0)$, that is, how the oscillation period depends on the initial displacement $\\theta$.\n",
        "\n",
        "Your tasks are as follows:\n",
        "\n",
        "- Make a list of $\\theta_0$ with 31 values from $\\theta_0 = 0.1$ to $\\theta_0 = 3.1$, using `numpy.linspace(0.1,3.1,31)`.\n",
        "- For each $\\theta_0$ value, perform Euler's method with $N=10^6$ steps to determine $\\theta(t)$ and $\\theta'(t)$.\n",
        "- Using your numerical solution, \"measure\" the period $T$ from your numerical results. *Hint:* you may consider determining $T$ as the distance in $t$ between maxima in $\\theta(t)$, or twice the distance where $\\theta(t)$ crosses zero. You need to get creative here.\n",
        "- Plot the period $T$ as a function of the initial displacement $\\theta_0$. \n",
        "\n",
        "Finally, there is an analytical approximation for $T(\\theta_0)$ that is valid for small and medium initial displacements $\\theta_0$\n",
        "\n",
        "$$ T(\\theta_0) = \\frac{2\\pi}{\\omega} \\left( 1 + \\frac{1}{16} \\theta_0^2 + \\frac{11}{3072} \\theta_0^4 + \\mathcal{O}(\\theta_0^6) \\right)$$\n",
        "\n",
        "where the leading $1$ is the small-angle result. Plot this formula on your plot to check that it agrees with your results for small and medium values of $\\theta_0$."
      ]
    },
    {
      "cell_type": "code",
      "execution_count": null,
      "metadata": {
        "id": "CYE-QKkznh7N"
      },
      "outputs": [],
      "source": [
        "# Your code here"
      ]
    }
  ],
  "metadata": {
    "kernelspec": {
      "display_name": "Python 3",
      "language": "python",
      "name": "python3"
    },
    "language_info": {
      "codemirror_mode": {
        "name": "ipython",
        "version": 3
      },
      "file_extension": ".py",
      "mimetype": "text/x-python",
      "name": "python",
      "nbconvert_exporter": "python",
      "pygments_lexer": "ipython3",
      "version": "3.7.6"
    },
    "colab": {
      "provenance": []
    }
  },
  "nbformat": 4,
  "nbformat_minor": 0
}