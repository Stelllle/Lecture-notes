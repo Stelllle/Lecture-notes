{
  "cells": [
    {
      "cell_type": "markdown",
      "metadata": {
        "id": "YzrEd_7ffKHv"
      },
      "source": [
        "__Your name here__\n",
        "<br>\n",
        "Date: Jan. 23, 2023\n",
        "<br>\n",
        "PHYS 2030 W23\n",
        "\n",
        "__Rubric__ (100 points total):\n",
        "\n",
        "- Part (a) /__40 points__\n",
        "     \n",
        "- Part (b) /__60 points__"
      ]
    },
    {
      "cell_type": "markdown",
      "metadata": {
        "id": "OV4rptyZfKHy"
      },
      "source": [
        "# <center><font color=#46769B>Exercise 6: Radioactive decay</font></center>\n",
        "\n",
        "Radioactive decay is the process by which an unstable atomic isotope will change into a different isotope by emitting something, releasing energy in the form of some emitted particles (e.g., $\\alpha$ , $\\beta$, or $\\gamma$ rays). Each radioactive isotope has a *lifetime* $\\tau$, which could be a fraction of a second, billions of years, or anything in between.\n",
        "\n",
        "Radioactive decay is an inherently random process because there is no way to know in advance the time $t$ for any one atom to decay. However, in a given time interval, there is a *probability* to decay that can be calculated. This is a process that we can describe using a probability distribution function $P(t)$ for the decay time $t$.\n",
        "\n",
        "Suppose we have an isotope $A$. The law of radioactive decay tells us that the probability of $A$ surviving until time $t$ is $e^{-t/\\tau_A}$, where $\\tau_A$ is the lifetime for its decay.\n",
        "Conversely, the probability for $A$ to decay *before* time $t$ is $(1-e^{-t/\\tau_A})$. The latter is nothing more than the CDF:\n",
        "\n",
        "$$ C(t) = \\left\\{ \\begin{array}{cc} 1 - e^{-t/\\tau_A} & {\\rm for} \\; t \\ge 0 \\\\\n",
        "0 & {\\rm otherwise} \\end{array} \\right.$$\n",
        "\n",
        "Since $P(t) = dC/dt$, we now have the PDF:\n",
        "\n",
        "$$ P(t) = \\left\\{ \\begin{array}{cc} \\frac{1}{\\tau_A} e^{-t/\\tau_A} & {\\rm for} \\; t \\ge 0 \\\\\n",
        "0 & {\\rm otherwise} \\end{array} \\right. \\, ,$$\n",
        "\n",
        "which you can verify has the correct normalization.\n",
        "\n",
        "## <font color=#46769B>Introduction:</font>\n",
        "\n",
        "Our goals for this notebook are:\n",
        "- Gain experience sampling from an exponential distribution using the inverse CDF method.\n",
        "\n",
        "Required reading:\n",
        "- *Lesson 3: Sampling from arbitrary distributions*"
      ]
    },
    {
      "cell_type": "markdown",
      "metadata": {
        "id": "WJi8Qx2vfKHz"
      },
      "source": [
        "## <font color=#46769B>Part (a)</font>\n",
        "\n",
        "Suppose isotope $A$ decays with a lifetime $\\tau_A = 10$ (e.g., 10 hours). Perform the following tasks:\n",
        "- Write a code that will draw $N = 10^6$ samples for $t$ from the exponential distribution given above, using the inverse CDF method.\n",
        "- Determine the half-life $t_{1/2}$ as the 50\\% quantile (median) of your sample.\n",
        "- Determine the time it takes for 99\\% of $A$ to decay away by determining the 99\\% quantile for your sample.\n",
        "- Plot a histogram of your samples for $t$. On the same plot, plot the PDF $P(t)$. Be sure to add a legend to your plot and choose an appropriate bin for your histogram, and use a log scale for the $y$-axis."
      ]
    },
    {
      "cell_type": "code",
      "execution_count": 19,
      "metadata": {
        "id": "4tEhdkR8fKH0",
        "outputId": "7c460840-347a-4015-d1c5-4ba10c390172",
        "colab": {
          "base_uri": "https://localhost:8080/",
          "height": 300
        }
      },
      "outputs": [
        {
          "output_type": "display_data",
          "data": {
            "text/plain": [
              "<Figure size 432x288 with 1 Axes>"
            ],
            "image/png": "[encoded data removed]"
          },
          "metadata": {
            "needs_background": "light"
          }
        },
        {
          "output_type": "stream",
          "name": "stdout",
          "text": [
            "the 50% quantile is 6.945114427068216 and the 99% quantile is  46.03930923853733\n",
            "17.738465538388905\n"
          ]
        }
      ],
      "source": [
        "import numpy as np\n",
        "import matplotlib.pyplot as plt\n",
        "\n",
        "# Your code here\n",
        "N = 10**6\n",
        "tao = 10\n",
        "time = np.linspace(0,140,10)\n",
        "sample = np.random.uniform(0,1,N)\n",
        "#inverse CDF\n",
        "t = -tao*np.log(1-sample)\n",
        "plt.hist(t,density = True, bins = 60, label = \"percentiles\")\n",
        "plt.yscale(\"log\")\n",
        "#plot\n",
        "P_t =(1/tao)*np.exp(-time/10)\n",
        "plt.plot(time,P_t, label = \"PDF\")\n",
        "plt.legend()\n",
        "plt.show()\n",
        "#quantile\n",
        "quant_50 = np.quantile(t,0.5)\n",
        "quant_99 = np.quantile(t,0.99)\n",
        "quant_83 = np.quantile(t,0.83)\n",
        "print(\"the 50% quantile is\", quant_50, \"and the 99% quantile is \", quant_99)\n",
        "print(quant_83)\n"
      ]
    },
    {
      "cell_type": "markdown",
      "metadata": {
        "id": "3wstGWvhfKH1"
      },
      "source": [
        "## <font color=#46769B>Part (b)</font>\n",
        "\n",
        "Consider a more complicated chain of decays, shown in the figure below. Isotope $A$, with lifetime $\\tau_A = 10$, decays into isotope $B$ 83\\% of the time and into isotope $C$ 17\\% of the time.\n",
        "Isotopes $B$ and $C$ are themselves radioactive, decaying with lifetimes $\\tau_B = 2$ and $\\tau_C=30$, respectively, into stable isotopes.\n",
        "\n",
        "<div>\n",
        "<img src=\"https://github.com/PHYS-2030-Computational-Methods/Lecture-notes/raw/main/ABC_decay.png\" width=\"200\"/>\n",
        "</div>\n",
        "\n",
        "Perform the following tasks:\n",
        "- Write a code that will perform a Monte Carlo simulation to generate $N = 10^6$ samples for the *total* decay time $t_{\\rm tot}$. \n",
        "- Determine the total decay half-life $t_{1/2}$ as the 50\\% quantile (median) of your sample for $t_{\\rm tot}$.\n",
        "- Determine the time it takes for 99\\% of all radioactive isotopes to decay away by determining the 99\\% quantile for your sample for $t_{\\rm tot}$.\n",
        "- Make a histogram plot of your samples for $t_{\\rm tot}$ in which you *separately* plot the histograms for the $A \\to B$ samples and for the $A \\to C$ samples. (That is, you make two plots using `plt.hist` but you put them in the same plot. It helps to set the keyword argument `alpha=0.5` in `plt.hist` to see the overlapping histograms.) Be sure to add a legend to your plot and choose an appropriate bin for your histogram, and use a log scale for the $y$-axis.\n",
        "\n",
        "### <font color=#46769B>Hint:</font>\n",
        "\n",
        "The total time is\n",
        "$$ t_{\\rm tot} = \\left\\{ \\begin{array}{cc} t_A + t_B & {\\rm 83\\% \\; of\\; the\\; time} \\\\ \n",
        "t_A + t_C & {\\rm 17\\% \\; of\\; the\\; time} \\end{array} \\right. \\, ,$$\n",
        "where $t_A$ is the time for $A$ to decay from part (a), and $t_B$ and $t_C$ are the times for $B$ and $C$ to decay.\n",
        "So, the logic is as follows:\n",
        "- Randomly sample $t_A$ as in part (a).\n",
        "- Randomly sample from a discrete choice: does $A \\to B$ or $A \\to C$?\n",
        "- Randomly sample *either* $t_B$ or $t_C$ (depending on which decay occurs), as in part (a) but using the appropriate lifetime $\\tau_B$ or $\\tau_C$.\n",
        "- Compute $t_{\\rm tot} = t_A + t_B$ or $t_A + t_C$ (depending on which decay occurs).\n",
        "\n",
        "That is __one__ sample. Repeat $N$ times do generate $N$ samples.\n",
        "\n"
      ]
    },
    {
      "cell_type": "code",
      "execution_count": 4,
      "metadata": {
        "id": "LpUsKXLMfKH2",
        "colab": {
          "base_uri": "https://localhost:8080/",
          "height": 265
        },
        "outputId": "137a5de0-31ec-492a-9cf5-82fb563c74e3"
      },
      "outputs": [
        {
          "output_type": "display_data",
          "data": {
            "text/plain": [
              "<Figure size 432x288 with 1 Axes>"
            ],
            "image/png": "[encoded data removed]"
          },
          "metadata": {
            "needs_background": "light"
          }
        }
      ],
      "source": [
        "from matplotlib.backend_bases import tight_bbox\n",
        "# Your code here\n",
        "T_a = 10\n",
        "T_b = 2\n",
        "T_c = 30\n",
        "N = 10**6\n",
        "#quantile 0 to 83 should decay to B and 84 to 100 should decay to C\n",
        "#Possiblilties = [B,C]\n",
        "B = 0\n",
        "C = 1\n",
        "Possiblilties =[B,C]\n",
        "Prob = [0.83,0.17]\n",
        "B_1 = 0\n",
        "C_1 = 0\n",
        "Decay = np.random.choice(Possiblilties, N, p=Prob)\n",
        "plt.hist(Decay)\n",
        "Decay\n",
        "\n",
        "for i in Decay:\n",
        "  if i == 0:\n",
        "    B_1 += 1\n",
        "  else:\n",
        "    C_1 += 1"
      ]
    },
    {
      "cell_type": "code",
      "source": [
        "B_1"
      ],
      "metadata": {
        "colab": {
          "base_uri": "https://localhost:8080/"
        },
        "id": "zyeiU24VSeba",
        "outputId": "83b8f944-174b-465b-b97d-70505d63bad3"
      },
      "execution_count": null,
      "outputs": [
        {
          "output_type": "execute_result",
          "data": {
            "text/plain": [
              "829251"
            ]
          },
          "metadata": {},
          "execution_count": 24
        }
      ]
    },
    {
      "cell_type": "code",
      "source": [
        "C_1"
      ],
      "metadata": {
        "colab": {
          "base_uri": "https://localhost:8080/"
        },
        "id": "-NLC6inlUUrv",
        "outputId": "01afcb3f-07ca-4daf-f201-45d38ce9d0a3"
      },
      "execution_count": null,
      "outputs": [
        {
          "output_type": "execute_result",
          "data": {
            "text/plain": [
              "170749"
            ]
          },
          "metadata": {},
          "execution_count": 25
        }
      ]
    },
    {
      "cell_type": "code",
      "source": [
        "#B_1 and C_1 are the counts that have decayed to B and C respectively\n",
        "sample_B = np.random.rand(B_1)\n",
        "sample_C = np.random.rand(C_1)\n",
        "time_B = -T_b*np.log(1-sample_B)\n",
        "\n",
        "sampleAB = np.random.rand(B_1)\n",
        "sampleAC = np.random.rand(C_1)\n",
        "\n",
        "\n",
        "A_T_B = -tao*np.log(1-sampleAB)\n",
        "A_T_C = -tao*np.log(1-sampleAC)\n",
        "\n",
        "\n",
        "plt.hist(time_B+A_T_B, density = True, bins = 50, label = \"A+B decay\")\n",
        "#plt.hist(t, density = True, bins = 50, alpha = 0.5, label = \"A decay\")\n",
        "plt.yscale(\"log\")\n",
        "time_C = -T_c*np.log(1-sample_C)\n",
        "plt.legend()\n",
        "plt.hist(time_C+A_T_C, density = True, bins = 50, label = \"A+C decay\", alpha = 0.5)\n",
        "\n",
        "\n",
        "AB99 = np.quantile(time_B+A_T_B,0.99)\n",
        "AC99 = np.quantile(time_C+A_T_C,0.99)\n",
        "AB50 = np.quantile(time_B+A_T_B,0.50)\n",
        "AC50 = np.quantile(time_C + A_T_C, 0.50)"
      ],
      "metadata": {
        "colab": {
          "base_uri": "https://localhost:8080/",
          "height": 268
        },
        "id": "OBOsGJ7HUVzv",
        "outputId": "e05a9a4b-73ac-4659-a09e-a6244f978c36"
      },
      "execution_count": 29,
      "outputs": [
        {
          "output_type": "display_data",
          "data": {
            "text/plain": [
              "<Figure size 432x288 with 1 Axes>"
            ],
            "image/png": "[encoded data removed]"
          },
          "metadata": {
            "needs_background": "light"
          }
        }
      ]
    },
    {
      "cell_type": "code",
      "source": [
        "print(\"it takes\", AB99, \" hours for the total A to be sameples to decay 99% and the median is \", AB50 )\n",
        "\n",
        "print(\" it takes\", AC99, \" hours for the total A to be sameples to decay 99% and the median is \", AC50)"
      ],
      "metadata": {
        "colab": {
          "base_uri": "https://localhost:8080/"
        },
        "id": "cS9c3nRMVjJj",
        "outputId": "2cfbc531-1522-4f2e-9bf9-b713931fa976"
      },
      "execution_count": 32,
      "outputs": [
        {
          "output_type": "stream",
          "name": "stdout",
          "text": [
            "it takes 48.28587655813263  hours for the total A to be sameples to decay 99% and the median is  9.107832013073038\n",
            " it takes 149.50096932423233  hours for the total A to be sameples to decay 99% and the median is  31.676236623271947\n"
          ]
        }
      ]
    },
    {
      "cell_type": "code",
      "source": [],
      "metadata": {
        "id": "LQfX_1EZYlQl"
      },
      "execution_count": null,
      "outputs": []
    }
  ],
  "metadata": {
    "kernelspec": {
      "display_name": "Python 3",
      "language": "python",
      "name": "python3"
    },
    "language_info": {
      "codemirror_mode": {
        "name": "ipython",
        "version": 3
      },
      "file_extension": ".py",
      "mimetype": "text/x-python",
      "name": "python",
      "nbconvert_exporter": "python",
      "pygments_lexer": "ipython3",
      "version": "3.7.6"
    },
    "colab": {
      "provenance": []
    }
  },
  "nbformat": 4,
  "nbformat_minor": 0
}